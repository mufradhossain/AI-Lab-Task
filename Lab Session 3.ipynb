{
 "cells": [
  {
   "cell_type": "code",
   "execution_count": 1,
   "metadata": {
    "colab": {
     "base_uri": "https://localhost:8080/",
     "height": 139
    },
    "colab_type": "code",
    "id": "put0KDaH6qOk",
    "outputId": "031855f2-4981-4df3-9482-06523df5f1ab"
   },
   "outputs": [
    {
     "name": "stdout",
     "output_type": "stream",
     "text": [
      "Hi, I am semi-colon. Do you miss me?\n",
      "Let me know if you miss me or not. \n"
     ]
    },
    {
     "name": "stdin",
     "output_type": "stream",
     "text": [
      " No.\n"
     ]
    },
    {
     "name": "stdout",
     "output_type": "stream",
     "text": [
      "21\n",
      "10\n",
      "10\n",
      "<class 'str'>\n"
     ]
    }
   ],
   "source": [
    "#built-in functions\n",
    "\n",
    "print(\"Hi, I am semi-colon. Do you miss me?\")\n",
    "print(\"Let me know if you miss me or not. \")\n",
    "s=input()\n",
    "\n",
    "a=10\n",
    "b=21\n",
    "print(max(a,b))\n",
    "print(min(a,b))\n",
    "\n",
    "c=10.4\n",
    "d=int(c)\n",
    "print(d)\n",
    "\n",
    "e=\"python\"\n",
    "print(type(e))"
   ]
  },
  {
   "cell_type": "code",
   "execution_count": 2,
   "metadata": {
    "colab": {
     "base_uri": "https://localhost:8080/",
     "height": 69
    },
    "colab_type": "code",
    "id": "rfnylNHAAXPm",
    "outputId": "0a0af1c4-56ce-4d60-831f-1c220b2c0845"
   },
   "outputs": [
    {
     "name": "stdin",
     "output_type": "stream",
     "text": [
      "Enter a number:  5\n",
      "Enter a number:  6\n"
     ]
    },
    {
     "name": "stdout",
     "output_type": "stream",
     "text": [
      "The sum is 11\n"
     ]
    }
   ],
   "source": [
    "#user defined function\n",
    "\n",
    "def add(a, b):\n",
    "    c=a+b\n",
    "    return c\n",
    "\n",
    "a=int(input(\"Enter a number: \"))\n",
    "b=int(input(\"Enter a number: \"))\n",
    "d=add(a,b)\n",
    "print(\"The sum is\", d)"
   ]
  },
  {
   "cell_type": "code",
   "execution_count": 7,
   "metadata": {
    "colab": {
     "base_uri": "https://localhost:8080/",
     "height": 86
    },
    "colab_type": "code",
    "id": "20olaGqmBX7J",
    "outputId": "b2575c5f-2350-4433-b552-b987ae0f06a3"
   },
   "outputs": [
    {
     "name": "stdout",
     "output_type": "stream",
     "text": [
      "10 & 20 are divisible by 5\n",
      "only 20 is divisible by 5\n",
      "only 10 is divisible by 5\n",
      "none of 2 & 5 is divisible by 11\n"
     ]
    }
   ],
   "source": [
    "#function with multiple parameters\n",
    "\n",
    "def divisor(x,y,m):\n",
    "    if x%m==0 and y%m==0:\n",
    "        print(\"%d & %d are divisible by %d\"%(x,y,m))\n",
    "    elif x%m==0:\n",
    "        print(\"only %d is divisible by %d\"%(x,m))\n",
    "    elif y%m==0:\n",
    "        print(\"only %d is divisible by %d\"%(y,m))\n",
    "    else:\n",
    "        print(\"none of %d & %d is divisible by %d\"%(x,y,d))\n",
    "\n",
    "divisor(10,20,5)\n",
    "divisor(12,20,5)\n",
    "divisor(10,22,5)\n",
    "divisor(2,5,3)"
   ]
  },
  {
   "cell_type": "code",
   "execution_count": 8,
   "metadata": {
    "colab": {
     "base_uri": "https://localhost:8080/",
     "height": 34
    },
    "colab_type": "code",
    "id": "P3YgiignDl9E",
    "outputId": "7139e6dc-f19a-44f5-adca-3a73087543af"
   },
   "outputs": [
    {
     "name": "stdout",
     "output_type": "stream",
     "text": [
      "11\n"
     ]
    }
   ],
   "source": [
    "#function without parameter\n",
    "\n",
    "def summation():\n",
    "    a=3+8\n",
    "    return a\n",
    "\n",
    "b=summation()\n",
    "print(b)"
   ]
  },
  {
   "cell_type": "code",
   "execution_count": 9,
   "metadata": {
    "colab": {
     "base_uri": "https://localhost:8080/",
     "height": 52
    },
    "colab_type": "code",
    "id": "x-A4XKYhM_t8",
    "outputId": "49b92703-f930-4177-cbb6-f0139a68d8b8"
   },
   "outputs": [
    {
     "name": "stdout",
     "output_type": "stream",
     "text": [
      "Zero\n",
      "Negative\n"
     ]
    }
   ],
   "source": [
    "#function with default parameter value\n",
    "\n",
    "def check(a=0):\n",
    "    if a==0:\n",
    "        print(\"Zero\")\n",
    "    elif a>0:\n",
    "        print(\"Positive\")\n",
    "    else:\n",
    "        print(\"Negative\")\n",
    "\n",
    "check()     #without parameter\n",
    "check(-4)   #with parameter"
   ]
  },
  {
   "cell_type": "code",
   "execution_count": 10,
   "metadata": {
    "colab": {
     "base_uri": "https://localhost:8080/",
     "height": 220
    },
    "colab_type": "code",
    "id": "Mru9JQ-tNkw3",
    "outputId": "b179a5cf-59c1-490d-91eb-306baf42644b"
   },
   "outputs": [
    {
     "name": "stdout",
     "output_type": "stream",
     "text": [
      "7\n"
     ]
    },
    {
     "ename": "NameError",
     "evalue": "name 'x' is not defined",
     "output_type": "error",
     "traceback": [
      "\u001b[1;31m---------------------------------------------------------------------------\u001b[0m",
      "\u001b[1;31mNameError\u001b[0m                                 Traceback (most recent call last)",
      "\u001b[1;32m<ipython-input-10-d0e6fae9f72b>\u001b[0m in \u001b[0;36m<module>\u001b[1;34m\u001b[0m\n\u001b[0;32m      6\u001b[0m \u001b[1;33m\u001b[0m\u001b[0m\n\u001b[0;32m      7\u001b[0m \u001b[0mlocal_scope\u001b[0m\u001b[1;33m(\u001b[0m\u001b[1;33m)\u001b[0m\u001b[1;33m\u001b[0m\u001b[1;33m\u001b[0m\u001b[0m\n\u001b[1;32m----> 8\u001b[1;33m \u001b[0mprint\u001b[0m\u001b[1;33m(\u001b[0m\u001b[0mx\u001b[0m\u001b[1;33m)\u001b[0m\u001b[1;33m\u001b[0m\u001b[1;33m\u001b[0m\u001b[0m\n\u001b[0m",
      "\u001b[1;31mNameError\u001b[0m: name 'x' is not defined"
     ]
    }
   ],
   "source": [
    "#local scope\n",
    "\n",
    "def local_scope():\n",
    "    x=7\n",
    "    print(x)\n",
    "\n",
    "local_scope()\n",
    "print(x)"
   ]
  },
  {
   "cell_type": "code",
   "execution_count": 11,
   "metadata": {
    "colab": {
     "base_uri": "https://localhost:8080/",
     "height": 220
    },
    "colab_type": "code",
    "id": "EyROFGhnQJVf",
    "outputId": "5db2e325-b4a8-4324-8010-4abcb8d443d0"
   },
   "outputs": [
    {
     "name": "stdout",
     "output_type": "stream",
     "text": [
      "7\n"
     ]
    },
    {
     "ename": "NameError",
     "evalue": "name 'x' is not defined",
     "output_type": "error",
     "traceback": [
      "\u001b[1;31m---------------------------------------------------------------------------\u001b[0m",
      "\u001b[1;31mNameError\u001b[0m                                 Traceback (most recent call last)",
      "\u001b[1;32m<ipython-input-11-336e5e588753>\u001b[0m in \u001b[0;36m<module>\u001b[1;34m\u001b[0m\n\u001b[0;32m      7\u001b[0m \u001b[0ma\u001b[0m\u001b[1;33m=\u001b[0m\u001b[0mlocal_scope\u001b[0m\u001b[1;33m(\u001b[0m\u001b[1;33m)\u001b[0m\u001b[1;33m\u001b[0m\u001b[1;33m\u001b[0m\u001b[0m\n\u001b[0;32m      8\u001b[0m \u001b[0mprint\u001b[0m\u001b[1;33m(\u001b[0m\u001b[0ma\u001b[0m\u001b[1;33m)\u001b[0m\u001b[1;33m\u001b[0m\u001b[1;33m\u001b[0m\u001b[0m\n\u001b[1;32m----> 9\u001b[1;33m \u001b[0mprint\u001b[0m\u001b[1;33m(\u001b[0m\u001b[0mx\u001b[0m\u001b[1;33m)\u001b[0m\u001b[1;33m\u001b[0m\u001b[1;33m\u001b[0m\u001b[0m\n\u001b[0m",
      "\u001b[1;31mNameError\u001b[0m: name 'x' is not defined"
     ]
    }
   ],
   "source": [
    "#local scope\n",
    "\n",
    "def local_scope():\n",
    "    x=7\n",
    "    return x\n",
    "\n",
    "a=local_scope()\n",
    "print(a)\n",
    "print(x)"
   ]
  },
  {
   "cell_type": "code",
   "execution_count": 12,
   "metadata": {
    "colab": {
     "base_uri": "https://localhost:8080/",
     "height": 52
    },
    "colab_type": "code",
    "id": "r9JthIe-RbSe",
    "outputId": "4b71e17d-029f-4f17-b98a-9346ac774ed5"
   },
   "outputs": [
    {
     "name": "stdout",
     "output_type": "stream",
     "text": [
      "10\n",
      "10\n"
     ]
    }
   ],
   "source": [
    "#global scope\n",
    "\n",
    "x=10\n",
    "\n",
    "def global_scope():\n",
    "    print(x)\n",
    "\n",
    "print(x)\n",
    "global_scope()"
   ]
  },
  {
   "cell_type": "code",
   "execution_count": 13,
   "metadata": {
    "colab": {
     "base_uri": "https://localhost:8080/",
     "height": 34
    },
    "colab_type": "code",
    "id": "go6zuWDAP_Ck",
    "outputId": "d3e760d8-276d-41f9-9cba-aac0a4a69465"
   },
   "outputs": [
    {
     "name": "stdout",
     "output_type": "stream",
     "text": [
      "10\n"
     ]
    }
   ],
   "source": [
    "#global scope\n",
    "\n",
    "def global_scope():\n",
    "    global x\n",
    "    x=10\n",
    "\n",
    "global_scope()\n",
    "print(x)"
   ]
  },
  {
   "cell_type": "code",
   "execution_count": 15,
   "metadata": {
    "colab": {
     "base_uri": "https://localhost:8080/",
     "height": 121
    },
    "colab_type": "code",
    "id": "On5yNCjtik45",
    "outputId": "85a9f90d-28dd-47f9-96c0-e036576dee63"
   },
   "outputs": [
    {
     "name": "stdout",
     "output_type": "stream",
     "text": [
      "Name,Popularity(out, of, 10)\n",
      "Python,9\n",
      "C,6\n",
      "C++,8\n",
      "Java,7\n",
      "Prolog,3\n"
     ]
    }
   ],
   "source": [
    "#python standard library\n",
    "#csv module\n",
    "\n",
    "import csv\n",
    "\n",
    "with open('test.csv', newline='') as csvfile:\n",
    "    tmp = csv.reader(csvfile, delimiter=' ', quotechar='|')\n",
    "    for row in tmp:\n",
    "        print(', '.join(row))"
   ]
  },
  {
   "cell_type": "code",
   "execution_count": 16,
   "metadata": {
    "colab": {
     "base_uri": "https://localhost:8080/",
     "height": 121
    },
    "colab_type": "code",
    "id": "ZZTX9sWwWBrK",
    "outputId": "541aebcb-01ce-4c2d-f32c-4f2a4283a69b"
   },
   "outputs": [
    {
     "name": "stdout",
     "output_type": "stream",
     "text": [
      "3.141592653589793\n",
      "10\n",
      "9\n",
      "0.5139784559875352\n",
      "8.0\n",
      "4.0\n"
     ]
    }
   ],
   "source": [
    "#python standard library\n",
    "#math module\n",
    "\n",
    "import math\n",
    "\n",
    "print(math.pi)          #value of pi\n",
    "\n",
    "x=9.2\n",
    "print(math.ceil(x))     #round to the smallest integer not less than x\n",
    "print(math.floor(x))    #rount to the largest integer not greater than x\n",
    "\n",
    "print(math.sin(78))     #trigonometric sine of x (x in radians)\n",
    "\n",
    "print(math.pow(2,3))    #2 to the power 3\n",
    "\n",
    "print(math.sqrt(16))    #square root of 16"
   ]
  },
  {
   "cell_type": "code",
   "execution_count": null,
   "metadata": {},
   "outputs": [],
   "source": []
  }
 ],
 "metadata": {
  "colab": {
   "collapsed_sections": [],
   "name": "Function.ipynb",
   "provenance": []
  },
  "kernelspec": {
   "display_name": "Python 3",
   "language": "python",
   "name": "python3"
  },
  "language_info": {
   "codemirror_mode": {
    "name": "ipython",
    "version": 3
   },
   "file_extension": ".py",
   "mimetype": "text/x-python",
   "name": "python",
   "nbconvert_exporter": "python",
   "pygments_lexer": "ipython3",
   "version": "3.8.7"
  }
 },
 "nbformat": 4,
 "nbformat_minor": 4
}
